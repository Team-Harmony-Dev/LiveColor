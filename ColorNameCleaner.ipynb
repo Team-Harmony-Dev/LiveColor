{
 "cells": [
  {
   "cell_type": "code",
   "execution_count": 1,
   "metadata": {},
   "outputs": [],
   "source": [
    "#Purpose: Download and clean up the color name csv\n",
    "#Author: Dustin"
   ]
  },
  {
   "cell_type": "code",
   "execution_count": 2,
   "metadata": {},
   "outputs": [],
   "source": [
    "from bs4 import BeautifulSoup\n",
    "from urllib.request import urlopen\n",
    "import pandas as pd\n",
    "import re"
   ]
  },
  {
   "cell_type": "code",
   "execution_count": 3,
   "metadata": {},
   "outputs": [],
   "source": [
    "sourceUrl = \"https://raw.githubusercontent.com/meodai/color-names/master/src/colornames.csv\""
   ]
  },
  {
   "cell_type": "code",
   "execution_count": 4,
   "metadata": {},
   "outputs": [],
   "source": [
    "html = urlopen(sourceUrl)\n",
    "soup = BeautifulSoup(html)"
   ]
  },
  {
   "cell_type": "code",
   "execution_count": 5,
   "metadata": {},
   "outputs": [],
   "source": [
    "#soup"
   ]
  },
  {
   "cell_type": "code",
   "execution_count": 6,
   "metadata": {},
   "outputs": [],
   "source": [
    "rawBody = soup.find_all(\"p\")[0]\n",
    "body = rawBody.text.splitlines()"
   ]
  },
  {
   "cell_type": "code",
   "execution_count": 7,
   "metadata": {},
   "outputs": [],
   "source": [
    "namesList = []\n",
    "#For this hex, use this name, not what name it has. \n",
    "namesToChange = [(\"#adcf43\", \"Lyceum\")]\n",
    "SEP = ','\n",
    "#Skip first line because it's the column names\n",
    "#For every other line, we are only taking the name and hex, not the good name. \n",
    "for line in body[1:]:\n",
    "    firstCommaIndex = line.find(SEP, 0, len(line))\n",
    "    name = line[0:firstCommaIndex]\n",
    "    secondCommaIndex = line.find(SEP, firstCommaIndex+1, len(line))\n",
    "    hexStr = line[firstCommaIndex+1:secondCommaIndex]\n",
    "    for hexWithSpecialName, replacementName in namesToChange:\n",
    "        if(hexWithSpecialName == hexStr):\n",
    "            name = replacementName\n",
    "    namesList.append([name, hexStr])"
   ]
  },
  {
   "cell_type": "code",
   "execution_count": 8,
   "metadata": {},
   "outputs": [
    {
     "data": {
      "text/html": [
       "<div>\n",
       "<style scoped>\n",
       "    .dataframe tbody tr th:only-of-type {\n",
       "        vertical-align: middle;\n",
       "    }\n",
       "\n",
       "    .dataframe tbody tr th {\n",
       "        vertical-align: top;\n",
       "    }\n",
       "\n",
       "    .dataframe thead th {\n",
       "        text-align: right;\n",
       "    }\n",
       "</style>\n",
       "<table border=\"1\" class=\"dataframe\">\n",
       "  <thead>\n",
       "    <tr style=\"text-align: right;\">\n",
       "      <th></th>\n",
       "      <th>name</th>\n",
       "      <th>hex</th>\n",
       "    </tr>\n",
       "  </thead>\n",
       "  <tbody>\n",
       "    <tr>\n",
       "      <td>0</td>\n",
       "      <td>100 Mph</td>\n",
       "      <td>#c93f38</td>\n",
       "    </tr>\n",
       "    <tr>\n",
       "      <td>1</td>\n",
       "      <td>18th Century Green</td>\n",
       "      <td>#a59344</td>\n",
       "    </tr>\n",
       "    <tr>\n",
       "      <td>2</td>\n",
       "      <td>1975 Earth Red</td>\n",
       "      <td>#7b463b</td>\n",
       "    </tr>\n",
       "    <tr>\n",
       "      <td>3</td>\n",
       "      <td>1989 Miami Hotline</td>\n",
       "      <td>#dd3366</td>\n",
       "    </tr>\n",
       "    <tr>\n",
       "      <td>4</td>\n",
       "      <td>20000 Leagues Under the Sea</td>\n",
       "      <td>#191970</td>\n",
       "    </tr>\n",
       "  </tbody>\n",
       "</table>\n",
       "</div>"
      ],
      "text/plain": [
       "                          name      hex\n",
       "0                      100 Mph  #c93f38\n",
       "1           18th Century Green  #a59344\n",
       "2               1975 Earth Red  #7b463b\n",
       "3           1989 Miami Hotline  #dd3366\n",
       "4  20000 Leagues Under the Sea  #191970"
      ]
     },
     "execution_count": 8,
     "metadata": {},
     "output_type": "execute_result"
    }
   ],
   "source": [
    "colNames = [\"name\", \"hex\"]\n",
    "df = pd.DataFrame(namesList, columns=colNames)\n",
    "df.head()"
   ]
  },
  {
   "cell_type": "code",
   "execution_count": 9,
   "metadata": {},
   "outputs": [],
   "source": [
    "#Store the dataframe in a new csv\n",
    "file_name = \"colornames.csv\"\n",
    "df.to_csv(file_name, index=False)"
   ]
  },
  {
   "cell_type": "code",
   "execution_count": 10,
   "metadata": {},
   "outputs": [],
   "source": [
    "#Do some comparisons with old file?\n",
    "#new_file = \".\\app\\src\\main\\res\\raw\\colornames.csv\"\n",
    "#df_new = pd.read_csv(new_file)"
   ]
  },
  {
   "cell_type": "code",
   "execution_count": 11,
   "metadata": {},
   "outputs": [],
   "source": [
    "#df_new.head()"
   ]
  }
 ],
 "metadata": {
  "kernelspec": {
   "display_name": "Python 3",
   "language": "python",
   "name": "python3"
  },
  "language_info": {
   "codemirror_mode": {
    "name": "ipython",
    "version": 3
   },
   "file_extension": ".py",
   "mimetype": "text/x-python",
   "name": "python",
   "nbconvert_exporter": "python",
   "pygments_lexer": "ipython3",
   "version": "3.7.4"
  }
 },
 "nbformat": 4,
 "nbformat_minor": 2
}
